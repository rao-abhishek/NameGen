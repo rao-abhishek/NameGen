{
 "cells": [
  {
   "cell_type": "code",
   "execution_count": 1,
   "id": "16c969e2",
   "metadata": {},
   "outputs": [],
   "source": [
    "import torch\n",
    "import torch.nn.functional as F\n",
    "import matplotlib.pyplot as plt\n",
    "%matplotlib inline"
   ]
  },
  {
   "cell_type": "code",
   "execution_count": 2,
   "id": "064c6b63",
   "metadata": {},
   "outputs": [
    {
     "data": {
      "text/plain": [
       "['emma', 'olivia', 'ava', 'isabella', 'sophia', 'charlotte', 'mia', 'amelia']"
      ]
     },
     "execution_count": 2,
     "metadata": {},
     "output_type": "execute_result"
    }
   ],
   "source": [
    "words = open(\"names.txt\",\"r\").read().splitlines()\n",
    "words[:8]"
   ]
  },
  {
   "cell_type": "code",
   "execution_count": 3,
   "id": "d250f360",
   "metadata": {},
   "outputs": [
    {
     "data": {
      "text/plain": [
       "32033"
      ]
     },
     "execution_count": 3,
     "metadata": {},
     "output_type": "execute_result"
    }
   ],
   "source": [
    "len(words)"
   ]
  },
  {
   "cell_type": "code",
   "execution_count": 4,
   "id": "7a20a811",
   "metadata": {},
   "outputs": [
    {
     "name": "stdout",
     "output_type": "stream",
     "text": [
      "{1: 'a', 2: 'b', 3: 'c', 4: 'd', 5: 'e', 6: 'f', 7: 'g', 8: 'h', 9: 'i', 10: 'j', 11: 'k', 12: 'l', 13: 'm', 14: 'n', 15: 'o', 16: 'p', 17: 'q', 18: 'r', 19: 's', 20: 't', 21: 'u', 22: 'v', 23: 'w', 24: 'x', 25: 'y', 26: 'z', 0: '.'}\n"
     ]
    }
   ],
   "source": [
    "#build the vocabulary of characters and mappings to/form integers\n",
    "chars=sorted(list(set(''.join(words))))\n",
    "stoi = {s:i+1 for i,s in enumerate(chars)}\n",
    "stoi['.']=0\n",
    "itos = {i:s for s,i in stoi.items()}\n",
    "print(itos)"
   ]
  },
  {
   "cell_type": "code",
   "execution_count": 5,
   "id": "eb18b7b1",
   "metadata": {},
   "outputs": [],
   "source": [
    "#build the dataset\n",
    "    \n",
    "block_size = 3\n",
    "X,Y = [],[]\n",
    "for w in words:\n",
    "    #print(\"\\n\\n\"+w)\n",
    "    context = [0]*block_size\n",
    "    for ch in w+'.':\n",
    "        ix = stoi[ch]\n",
    "        X.append(context)\n",
    "        Y.append(ix)\n",
    "        #print(''.join(itos[i] for i in context), '--->', itos[ix])\n",
    "        context = context[1:]+[ix]\n",
    "        \n",
    "X = torch.tensor(X)\n",
    "Y = torch.tensor(Y)\n",
    "    "
   ]
  },
  {
   "cell_type": "code",
   "execution_count": 6,
   "id": "0ef6efc4",
   "metadata": {},
   "outputs": [
    {
     "data": {
      "text/plain": [
       "torch.Size([228146, 3])"
      ]
     },
     "execution_count": 6,
     "metadata": {},
     "output_type": "execute_result"
    }
   ],
   "source": [
    "X.shape"
   ]
  },
  {
   "cell_type": "code",
   "execution_count": 7,
   "id": "02edfc33",
   "metadata": {},
   "outputs": [
    {
     "data": {
      "text/plain": [
       "torch.Size([228146])"
      ]
     },
     "execution_count": 7,
     "metadata": {},
     "output_type": "execute_result"
    }
   ],
   "source": [
    "Y.shape"
   ]
  },
  {
   "cell_type": "code",
   "execution_count": 8,
   "id": "039d9b21",
   "metadata": {},
   "outputs": [],
   "source": [
    "#build the dataset\n",
    " \n",
    "def build_dataset(words):\n",
    "    block_size = 3\n",
    "    X,Y = [],[]\n",
    "    for w in words:\n",
    "        #print(\"\\n\\n\"+w)\n",
    "        context = [0]*block_size\n",
    "        for ch in w+'.':\n",
    "            ix = stoi[ch]\n",
    "            X.append(context)\n",
    "            Y.append(ix)\n",
    "            #print(''.join(itos[i] for i in context), '--->', itos[ix])\n",
    "            context = context[1:]+[ix]\n",
    "\n",
    "    X = torch.tensor(X)\n",
    "    Y = torch.tensor(Y)\n",
    "    return X,Y\n",
    "\n",
    "import random\n",
    "random.seed(42)\n",
    "random.shuffle(words)\n",
    "n1 = int(0.8*len(words))\n",
    "n2 = int(0.9*len(words))\n",
    "\n",
    "Xtr , Ytr = build_dataset(words[:n1])\n",
    "Xdev , Ydev = build_dataset(words[n1:n2])\n",
    "Xte, Yte = build_dataset(words[n2:])"
   ]
  },
  {
   "cell_type": "code",
   "execution_count": 9,
   "id": "899d0dc2",
   "metadata": {},
   "outputs": [
    {
     "data": {
      "text/plain": [
       "tensor([[-1.5945,  1.0734],\n",
       "        [-1.0846, -0.0713],\n",
       "        [-0.1301,  0.9727],\n",
       "        [-0.4667, -0.4369],\n",
       "        [-1.4506, -0.1302],\n",
       "        [ 0.4790,  1.2124],\n",
       "        [ 0.2285, -0.8046],\n",
       "        [-0.9718, -0.6803],\n",
       "        [ 0.1452, -0.0951],\n",
       "        [-1.7006, -0.2757],\n",
       "        [ 0.1386,  1.0585],\n",
       "        [-0.5737, -0.6695],\n",
       "        [-2.4089, -1.4250],\n",
       "        [ 2.4760, -2.4926],\n",
       "        [ 0.7071,  1.0889],\n",
       "        [-1.3936,  1.7894],\n",
       "        [-1.9992,  1.7375],\n",
       "        [-0.5068, -0.3756],\n",
       "        [ 0.2736,  0.4585],\n",
       "        [ 1.6304, -1.2158],\n",
       "        [-0.3688,  2.2600],\n",
       "        [-2.5498,  0.5373],\n",
       "        [-1.7960,  0.0464],\n",
       "        [ 0.8811, -0.7942],\n",
       "        [-0.4452,  0.2436],\n",
       "        [ 0.8889, -0.5196],\n",
       "        [-0.8178,  0.4773]])"
      ]
     },
     "execution_count": 9,
     "metadata": {},
     "output_type": "execute_result"
    }
   ],
   "source": [
    "C = torch.randn((27,2))\n",
    "C"
   ]
  },
  {
   "cell_type": "code",
   "execution_count": 10,
   "id": "82bbbbfc",
   "metadata": {},
   "outputs": [
    {
     "data": {
      "text/plain": [
       "tensor([0.4790, 1.2124])"
      ]
     },
     "execution_count": 10,
     "metadata": {},
     "output_type": "execute_result"
    }
   ],
   "source": [
    "C[5]"
   ]
  },
  {
   "cell_type": "code",
   "execution_count": 11,
   "id": "c244a3f8",
   "metadata": {},
   "outputs": [
    {
     "data": {
      "text/plain": [
       "tensor([0.4790, 1.2124])"
      ]
     },
     "execution_count": 11,
     "metadata": {},
     "output_type": "execute_result"
    }
   ],
   "source": [
    "F.one_hot(torch.tensor(5), num_classes=27).float() @ C"
   ]
  },
  {
   "cell_type": "code",
   "execution_count": 12,
   "id": "7eb0689d",
   "metadata": {},
   "outputs": [
    {
     "data": {
      "text/plain": [
       "torch.Size([228146, 3, 2])"
      ]
     },
     "execution_count": 12,
     "metadata": {},
     "output_type": "execute_result"
    }
   ],
   "source": [
    "emb = C[X]\n",
    "emb.shape"
   ]
  },
  {
   "cell_type": "code",
   "execution_count": 13,
   "id": "d8cf145a",
   "metadata": {},
   "outputs": [],
   "source": [
    "W1 = torch.randn((6,100))\n",
    "b1 = torch.randn(100)"
   ]
  },
  {
   "cell_type": "code",
   "execution_count": 14,
   "id": "f9100342",
   "metadata": {},
   "outputs": [],
   "source": [
    "h = torch.tanh(emb.view(-1,6) @W1+b1)"
   ]
  },
  {
   "cell_type": "code",
   "execution_count": 15,
   "id": "bce8036d",
   "metadata": {},
   "outputs": [
    {
     "data": {
      "text/plain": [
       "tensor([[ 0.9180, -0.4933,  0.9980,  ...,  0.3150,  0.8802, -0.9999],\n",
       "        [-0.2657, -0.7467, -0.4684,  ..., -0.6431,  0.6874, -0.9534],\n",
       "        [-0.9647,  0.8793, -0.9991,  ..., -1.0000,  0.7111,  0.1932],\n",
       "        ...,\n",
       "        [-0.4668, -0.3627, -0.5725,  ..., -0.9767,  0.2965, -0.5772],\n",
       "        [-0.9708,  0.5695,  0.9364,  ..., -0.9685,  0.8494,  0.9949],\n",
       "        [ 0.9339, -0.1625,  0.8094,  ...,  0.7803, -0.9503, -0.9829]])"
      ]
     },
     "execution_count": 15,
     "metadata": {},
     "output_type": "execute_result"
    }
   ],
   "source": [
    "h"
   ]
  },
  {
   "cell_type": "code",
   "execution_count": 16,
   "id": "90c98e7b",
   "metadata": {},
   "outputs": [
    {
     "data": {
      "text/plain": [
       "torch.Size([228146, 100])"
      ]
     },
     "execution_count": 16,
     "metadata": {},
     "output_type": "execute_result"
    }
   ],
   "source": [
    "h.shape"
   ]
  },
  {
   "cell_type": "code",
   "execution_count": 17,
   "id": "72b1024d",
   "metadata": {},
   "outputs": [],
   "source": [
    "W2 = torch.randn((100,27))\n",
    "b2 = torch.randn(27)"
   ]
  },
  {
   "cell_type": "code",
   "execution_count": 18,
   "id": "e03a242e",
   "metadata": {},
   "outputs": [],
   "source": [
    "logits = h @ W2 + b2"
   ]
  },
  {
   "cell_type": "code",
   "execution_count": 19,
   "id": "2398dd3e",
   "metadata": {},
   "outputs": [],
   "source": [
    "counts = logits.exp()"
   ]
  },
  {
   "cell_type": "code",
   "execution_count": 20,
   "id": "4b6c9042",
   "metadata": {},
   "outputs": [],
   "source": [
    "prob = counts/counts.sum(1, keepdims=True)"
   ]
  },
  {
   "cell_type": "code",
   "execution_count": 21,
   "id": "d8bf3c79",
   "metadata": {},
   "outputs": [
    {
     "data": {
      "text/plain": [
       "torch.Size([228146, 27])"
      ]
     },
     "execution_count": 21,
     "metadata": {},
     "output_type": "execute_result"
    }
   ],
   "source": [
    "prob.shape"
   ]
  },
  {
   "cell_type": "code",
   "execution_count": 22,
   "id": "7cfb2dde",
   "metadata": {},
   "outputs": [],
   "source": [
    "#Now made respectable"
   ]
  },
  {
   "cell_type": "code",
   "execution_count": 23,
   "id": "b09be3ba",
   "metadata": {},
   "outputs": [
    {
     "data": {
      "text/plain": [
       "(torch.Size([182625, 3]), torch.Size([182625]))"
      ]
     },
     "execution_count": 23,
     "metadata": {},
     "output_type": "execute_result"
    }
   ],
   "source": [
    "Xtr.shape, Ytr.shape # dataset"
   ]
  },
  {
   "cell_type": "code",
   "execution_count": 24,
   "id": "998769a6",
   "metadata": {},
   "outputs": [],
   "source": [
    "g = torch.Generator().manual_seed(2147483647)\n",
    "C = torch.randn((27,10), generator=g)\n",
    "W1 = torch.randn((30,300),generator=g)\n",
    "b1 = torch.randn(300,generator=g)\n",
    "W2 = torch.randn((300,27),generator=g)\n",
    "b2 = torch.randn(27,generator=g)\n",
    "parameters = [C, W1, b1, W2, b2]"
   ]
  },
  {
   "cell_type": "code",
   "execution_count": 25,
   "id": "670f504c",
   "metadata": {},
   "outputs": [
    {
     "data": {
      "text/plain": [
       "17697"
      ]
     },
     "execution_count": 25,
     "metadata": {},
     "output_type": "execute_result"
    }
   ],
   "source": [
    "sum(p.nelement() for p in parameters)"
   ]
  },
  {
   "cell_type": "code",
   "execution_count": 26,
   "id": "c7144e58",
   "metadata": {},
   "outputs": [],
   "source": [
    "for p in parameters:\n",
    "    p.requires_grad = True"
   ]
  },
  {
   "cell_type": "code",
   "execution_count": 27,
   "id": "772a202d",
   "metadata": {},
   "outputs": [],
   "source": [
    "lre = torch.linspace(-3,0,1000)\n",
    "lrs = 10**lre"
   ]
  },
  {
   "cell_type": "code",
   "execution_count": 28,
   "id": "d10b80a3",
   "metadata": {},
   "outputs": [],
   "source": [
    "lri=[]\n",
    "lossi=[]\n",
    "stepi = []"
   ]
  },
  {
   "cell_type": "code",
   "execution_count": 34,
   "id": "e365a153",
   "metadata": {},
   "outputs": [
    {
     "name": "stdout",
     "output_type": "stream",
     "text": [
      "1.7322379350662231\n"
     ]
    }
   ],
   "source": [
    "\n",
    "for i in range(100000):\n",
    "    #print(i,end=\", \")\n",
    "    #forward pass\n",
    "    ix = torch.randint(0,Xtr.shape[0],(32,))\n",
    "    emb = C[Xtr[ix]] # (32,3,2)\n",
    "    h = torch.tanh(emb.view(-1,30) @ W1 + b1)\n",
    "    logits = h @ W2 + b2\n",
    "    #counts = logits.exp()\n",
    "    #prob = counts/counts.sum(1, keepdims=True)\n",
    "    #loss = -prob[torch.arange(32), Y].log().mean()\n",
    "    loss = F.cross_entropy(logits,Ytr[ix])\n",
    "    #print(loss.item())\n",
    "    #backward pass\n",
    "    for p in parameters:\n",
    "        p.grad=None\n",
    "    loss.backward()\n",
    "\n",
    "    #update\n",
    "    #lr = lrs[i]\n",
    "    lr = 0.05\n",
    "    for p in parameters:\n",
    "        p.data += -lr*p.grad\n",
    "        \n",
    "    #track stats\n",
    "    #lri.append(lre[i])\n",
    "    stepi.append(i)\n",
    "    lossi.append(loss.log10().item())\n",
    "    \n",
    "print(loss.item())"
   ]
  },
  {
   "cell_type": "code",
   "execution_count": 35,
   "id": "f47bc3f3",
   "metadata": {},
   "outputs": [
    {
     "data": {
      "text/plain": [
       "tensor(2.2265, grad_fn=<NllLossBackward0>)"
      ]
     },
     "execution_count": 35,
     "metadata": {},
     "output_type": "execute_result"
    }
   ],
   "source": [
    "emb = C[Xtr]\n",
    "h = torch.tanh(emb.view(-1,30)@W1 + b1)\n",
    "logits = h @ W2 + b2\n",
    "loss = F.cross_entropy(logits, Ytr)\n",
    "loss"
   ]
  },
  {
   "cell_type": "code",
   "execution_count": 36,
   "id": "a535b2e2",
   "metadata": {},
   "outputs": [
    {
     "data": {
      "text/plain": [
       "tensor(2.2704, grad_fn=<NllLossBackward0>)"
      ]
     },
     "execution_count": 36,
     "metadata": {},
     "output_type": "execute_result"
    }
   ],
   "source": [
    "emb = C[Xdev]\n",
    "h = torch.tanh(emb.view(-1,30)@W1 + b1)\n",
    "logits = h @ W2 + b2\n",
    "loss = F.cross_entropy(logits, Ydev)\n",
    "loss\n"
   ]
  },
  {
   "cell_type": "code",
   "execution_count": 37,
   "id": "58b4c744",
   "metadata": {},
   "outputs": [
    {
     "data": {
      "text/plain": [
       "[<matplotlib.lines.Line2D at 0x2dddf321288>]"
      ]
     },
     "execution_count": 37,
     "metadata": {},
     "output_type": "execute_result"
    },
    {
     "data": {
      "image/png": "[encoded data removed]",
      "text/plain": [
       "<Figure size 640x480 with 1 Axes>"
      ]
     },
     "metadata": {},
     "output_type": "display_data"
    }
   ],
   "source": [
    "plt.plot(stepi,lossi)"
   ]
  },
  {
   "cell_type": "code",
   "execution_count": 47,
   "id": "9ab35813",
   "metadata": {},
   "outputs": [
    {
     "name": "stdout",
     "output_type": "stream",
     "text": [
      "taylon.\n",
      "yesheliel.\n",
      "liamilandan.\n",
      "aleian.\n",
      "kenneen.\n",
      "lonniah.\n",
      "zamden.\n",
      "velaraylah.\n",
      "jane.\n",
      "keina.\n",
      "mondilyannishillencey.\n",
      "joylneilee.\n",
      "doulynicolxyn.\n",
      "elly.\n",
      "kelly.\n",
      "joan.\n",
      "cailori.\n",
      "kaavialane.\n",
      "marioni.\n",
      "caan.\n",
      "syreataliendincy.\n",
      "khyleinces.\n",
      "saoaadury.\n",
      "deencesun.\n",
      "rhyly.\n",
      "alvancilleilion.\n",
      "mar.\n",
      "aus.\n",
      "sewry.\n",
      "helne.\n",
      "chidenimon.\n",
      "nai.\n",
      "abir.\n",
      "laylieah.\n",
      "saz.\n",
      "nariasille.\n",
      "jabi.\n",
      "jeza.\n",
      "zaleesians.\n",
      "rpy.\n",
      "grey.\n",
      "charlinceyzeel.\n",
      "phiel.\n",
      "jensleifnon.\n",
      "mayur.\n",
      "namilee.\n",
      "ene.\n",
      "izinaj.\n",
      "clinn.\n",
      "alie.\n"
     ]
    }
   ],
   "source": [
    "# sample from the model\n",
    "g = torch.Generator().manual_seed(2147483647+2)\n",
    "#g = torch.Generator().manual_seed(10)\n",
    "for _ in range(50):\n",
    "    out=[]\n",
    "    context = [0] * block_size\n",
    "    while True:\n",
    "        emb = C[torch.tensor([context])]\n",
    "        h = torch.tanh(emb.view(1,-1) @ W1 + b1)\n",
    "        logits = h @ W2 + b2\n",
    "        probs = F.softmax(logits, dim=1)\n",
    "        ix = torch.multinomial(probs, num_samples=1, generator=g).item()\n",
    "        context = context[1:] + [ix]\n",
    "        out.append(ix)\n",
    "        if(ix==0):\n",
    "            break\n",
    "    print(''.join(itos[i] for i in out))"
   ]
  },
  {
   "cell_type": "code",
   "execution_count": null,
   "id": "cfc304b2",
   "metadata": {},
   "outputs": [],
   "source": []
  },
  {
   "cell_type": "code",
   "execution_count": null,
   "id": "fce1180f",
   "metadata": {},
   "outputs": [],
   "source": []
  },
  {
   "cell_type": "code",
   "execution_count": null,
   "id": "84d6ca76",
   "metadata": {},
   "outputs": [],
   "source": []
  },
  {
   "cell_type": "code",
   "execution_count": null,
   "id": "a3e5832b",
   "metadata": {},
   "outputs": [],
   "source": []
  }
 ],
 "metadata": {
  "kernelspec": {
   "display_name": "Python 3 (ipykernel)",
   "language": "python",
   "name": "python3"
  },
  "language_info": {
   "codemirror_mode": {
    "name": "ipython",
    "version": 3
   },
   "file_extension": ".py",
   "mimetype": "text/x-python",
   "name": "python",
   "nbconvert_exporter": "python",
   "pygments_lexer": "ipython3",
   "version": "3.7.9"
  }
 },
 "nbformat": 4,
 "nbformat_minor": 5
}
